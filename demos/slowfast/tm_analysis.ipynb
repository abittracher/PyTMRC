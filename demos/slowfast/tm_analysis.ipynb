{
 "cells": [
  {
   "cell_type": "code",
   "execution_count": 14,
   "metadata": {},
   "outputs": [],
   "source": [
    "# generic imports\n",
    "import sys\n",
    "import os\n",
    "\n",
    "# numerics imports\n",
    "import numpy as np\n",
    "import matplotlib.pyplot as plt\n",
    "\n",
    "# visualization imports\n",
    "import matplotlib as mpl\n",
    "from matplotlib import cm"
   ]
  },
  {
   "cell_type": "code",
   "execution_count": 15,
   "metadata": {},
   "outputs": [],
   "source": [
    "# transition manifold imports\n",
    "sys.path.insert(0,  '../..')\n",
    "import tram.system as system\n",
    "import tram.kernels as krnls\n",
    "import tram.transition_manifold as tm\n",
    "import driftdiffusion"
   ]
  },
  {
   "cell_type": "code",
   "execution_count": 16,
   "metadata": {},
   "outputs": [],
   "source": [
    "# setting up the system\n",
    "domain = np.array([[0, 0], [1, 1]])\n",
    "mydriftdiffusion = driftdiffusion.DriftDiffusion()\n",
    "system = system.DriftDiffusionSystem(mydriftdiffusion, domain)"
   ]
  },
  {
   "cell_type": "code",
   "execution_count": 4,
   "metadata": {
    "scrolled": true
   },
   "outputs": [
    {
     "name": "stdout",
     "output_type": "stream",
     "text": [
      "Generating poinclouds...\n"
     ]
    },
    {
     "name": "stderr",
     "output_type": "stream",
     "text": [
      "100%|██████████| 1024/1024 [01:40<00:00, 10.21it/s]\n"
     ]
    }
   ],
   "source": [
    "# generate dynamical data\n",
    "nTestpoints = 32\n",
    "xtest = system.generateTestpoints(nTestpoints, 'grid')\n",
    "\n",
    "t0 = 0\n",
    "t = 5\n",
    "dt = 0.01\n",
    "M = 100\n",
    "\n",
    "X = system.generatePointclouds(t, dt, xtest, t0, M)"
   ]
  },
  {
   "cell_type": "code",
   "execution_count": 8,
   "metadata": {},
   "outputs": [
    {
     "data": {
      "image/png": "[encoded data removed]",
      "text/plain": [
       "<Figure size 432x288 with 1 Axes>"
      ]
     },
     "metadata": {
      "needs_background": "light"
     },
     "output_type": "display_data"
    }
   ],
   "source": [
    "# visualize pointclouds\n",
    "fig = plt.figure()\n",
    "ax = fig.add_subplot(111)\n",
    "\n",
    "plt.plot(X[300, :, 0], X[300, :, 1], 'ro')\n",
    "plt.plot(X[700, :, 0], X[700, :, 1], 'bo')\n",
    "plt.gca().set_aspect('equal', adjustable='box')\n",
    "\n",
    "ax.set_xlim(0,1)\n",
    "ax.set_ylim(-1,2)\n",
    "\n",
    "ax.set_title(r'two typical point clouds')\n",
    "ax.set_xlabel(r'$x_1$')\n",
    "ax.set_ylabel(r'$x_2$')\n",
    "plt.show()"
   ]
  },
  {
   "cell_type": "code",
   "execution_count": 17,
   "metadata": {},
   "outputs": [
    {
     "name": "stdout",
     "output_type": "stream",
     "text": [
      "Computing symmetric kernel evaluations...\n"
     ]
    },
    {
     "name": "stderr",
     "output_type": "stream",
     "text": [
      "100%|██████████| 1024/1024 [00:00<00:00, 7714.58it/s]"
     ]
    },
    {
     "name": "stdout",
     "output_type": "stream",
     "text": [
      "Computing asymmetric kernel evaluations...\n"
     ]
    },
    {
     "name": "stderr",
     "output_type": "stream",
     "text": [
      "\n",
      "100%|██████████| 1024/1024 [00:43<00:00, 11.75it/s]\n"
     ]
    }
   ],
   "source": [
    "# compute reaction coordinate using full kernel embeddings\n",
    "kernel = krnls.GaussianKernel(1)\n",
    "epsi_diffmap = 1\n",
    "kerTM = tm.KernelBurstTransitionManifold(kernel, 1)\n",
    "kerTM.fit(X)"
   ]
  },
  {
   "cell_type": "code",
   "execution_count": 18,
   "metadata": {},
   "outputs": [
    {
     "data": {
      "image/png": "[encoded data removed]",
      "text/plain": [
       "<Figure size 288x288 with 2 Axes>"
      ]
     },
     "metadata": {
      "needs_background": "light"
     },
     "output_type": "display_data"
    }
   ],
   "source": [
    "fig = plt.figure()\n",
    "ax = fig.add_subplot(111)\n",
    "\n",
    "# visualize RC\n",
    "pcol = ax.pcolormesh( xtest[:,0].reshape(nTestpoints, -1),\n",
    "             xtest[:,1].reshape(nTestpoints, -1),\n",
    "             np.real(kerTM.rc[1][:,1].reshape(nTestpoints,-1)),\n",
    "             shading='flat',\n",
    "             )\n",
    "clb = fig.colorbar(pcol)\n",
    "clb.ax.set_title(r'$\\xi$')\n",
    "\n",
    "plt.rc('text', usetex=True)\n",
    "font = {'family' : 'serif',\n",
    "        'size'   : 16}\n",
    "plt.rc('font', **font)\n",
    "fig.set_size_inches(4,4)\n",
    "ax.set_title(r'kernel RC')\n",
    "ax.set_xlabel(r'$x_1$')\n",
    "ax.set_ylabel(r'$x_2$')\n",
    "plt.show()"
   ]
  },
  {
   "cell_type": "code",
   "execution_count": 19,
   "metadata": {},
   "outputs": [],
   "source": [
    "# compute reaction coordinate using random Fourier features\n",
    "fourierTM = tm.LinearRandomFeatureManifold()\n",
    "fourierTM.fit(X)\n",
    "Y=fourierTM.predict(xtest)"
   ]
  },
  {
   "cell_type": "code",
   "execution_count": 20,
   "metadata": {},
   "outputs": [
    {
     "data": {
      "image/png": "[encoded data removed]",
      "text/plain": [
       "<Figure size 288x288 with 2 Axes>"
      ]
     },
     "metadata": {
      "needs_background": "light"
     },
     "output_type": "display_data"
    }
   ],
   "source": [
    "# visualize the RC\n",
    "fig = plt.figure()\n",
    "ax = fig.add_subplot(111)\n",
    "\n",
    "# visualize RC\n",
    "pcol = ax.pcolormesh( xtest[:,0].reshape(nTestpoints, -1),\n",
    "             xtest[:,1].reshape(nTestpoints, -1),\n",
    "             np.real(Y.reshape(nTestpoints,-1)),\n",
    "             shading='flat',\n",
    "             )\n",
    "clb = fig.colorbar(pcol)\n",
    "clb.ax.set_title(r'$\\xi$')\n",
    "\n",
    "plt.rc('text', usetex=True)\n",
    "font = {'family' : 'serif',\n",
    "        'size'   : 16}\n",
    "plt.rc('font', **font)\n",
    "fig.set_size_inches(4,4)\n",
    "ax.set_title(r'random Fourier RC')\n",
    "ax.set_xlabel(r'$x_1$')\n",
    "ax.set_ylabel(r'$x_2$')\n",
    "plt.show()"
   ]
  },
  {
   "cell_type": "code",
   "execution_count": null,
   "metadata": {},
   "outputs": [],
   "source": []
  },
  {
   "cell_type": "code",
   "execution_count": null,
   "metadata": {},
   "outputs": [],
   "source": []
  }
 ],
 "metadata": {
  "kernelspec": {
   "display_name": "Python 3",
   "language": "python",
   "name": "python3"
  },
  "language_info": {
   "codemirror_mode": {
    "name": "ipython",
    "version": 3
   },
   "file_extension": ".py",
   "mimetype": "text/x-python",
   "name": "python",
   "nbconvert_exporter": "python",
   "pygments_lexer": "ipython3",
   "version": "3.7.3"
  }
 },
 "nbformat": 4,
 "nbformat_minor": 2
}
